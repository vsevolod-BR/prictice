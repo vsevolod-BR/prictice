{
  "nbformat": 4,
  "nbformat_minor": 0,
  "metadata": {
    "colab": {
      "provenance": [],
      "authorship_tag": "ABX9TyOgw5VVYEq4hc/1ueVxtww5",
      "include_colab_link": true
    },
    "kernelspec": {
      "name": "python3",
      "display_name": "Python 3"
    },
    "language_info": {
      "name": "python"
    }
  },
  "cells": [
    {
      "cell_type": "markdown",
      "metadata": {
        "id": "view-in-github",
        "colab_type": "text"
      },
      "source": [
        "<a href=\"https://colab.research.google.com/github/vsevolod-BR/prictice/blob/main/liner_regression(pr_2).ipynb\" target=\"_parent\"><img src=\"https://colab.research.google.com/assets/colab-badge.svg\" alt=\"Open In Colab\"/></a>"
      ]
    },
    {
      "cell_type": "code",
      "execution_count": 21,
      "metadata": {
        "id": "wetgAn6YvHaS"
      },
      "outputs": [],
      "source": [
        "import numpy as np\n",
        "import pandas as pd\n",
        "from sklearn import datasets\n",
        "from sklearn import linear_model\n",
        "from sklearn import metrics\n",
        "from sklearn.datasets import fetch_california_housing\n",
        "from sklearn.preprocessing import StandardScaler\n",
        "from sklearn.model_selection import train_test_split"
      ]
    },
    {
      "cell_type": "code",
      "source": [
        "# гиперпараметры\n",
        "alphas = [0.001, 0.005, 0.01, 0.05, 0.1, 0.5, 1, 5, 10, 50]\n",
        "\n",
        "# загрузка данных (способ, приведенный в задании)\n",
        "X, y = datasets.fetch_california_housing(as_frame=True, return_X_y=True)\n",
        "X_train, X_test, y_train, y_test = train_test_split(X, y, test_size=0.2, random_state=42)"
      ],
      "metadata": {
        "id": "7OU1t084ZTS0"
      },
      "execution_count": 68,
      "outputs": []
    },
    {
      "cell_type": "code",
      "source": [
        "num_features = X.shape[1]\n",
        "for i in range(num_features):\n",
        "    column = X.columns[i]\n",
        "    X_train[f\"{column}_squared\"] = X_train[column] ** 2\n",
        "    X_test[f\"{column}_squared\"] = X_test[column] ** 2\n",
        "    X_train[f\"{column}_cubed\"] = X_train[column] ** 3\n",
        "    X_test[f\"{column}_cubed\"] = X_test[column] ** 3\n",
        "    X_train[f\"{column}_log\"] = np.log(10 + X_train[column])\n",
        "    X_test[f\"{column}_log\"] = np.log(10 + X_test[column])\n",
        "\n",
        "    for j in range(i + 1, num_features):\n",
        "        other_column = X.columns[j]\n",
        "        X_train[f\"{column}_x_{other_column}\"] = X_train[column] * X_train[other_column]\n",
        "        X_test[f\"{column}_x_{other_column}\"] = X_test[column] * X_test[other_column]\n",
        "\n",
        "X_train()"
      ],
      "metadata": {
        "id": "Ged4b_mQZbmM"
      },
      "execution_count": null,
      "outputs": []
    },
    {
      "cell_type": "code",
      "source": [
        "# обучение и преобразование обучающей и тестовой выборки\n",
        "X_scaler = StandardScaler()\n",
        "X_scaler.fit(X_train)\n",
        "X_train = pd.DataFrame(X_scaler.transform(X_train), columns=X_scaler.get_feature_names_out())\n",
        "X_test = pd.DataFrame(X_scaler.transform(X_test), columns=X_scaler.get_feature_names_out())"
      ],
      "metadata": {
        "id": "kqg5rPWacgC9"
      },
      "execution_count": 71,
      "outputs": []
    },
    {
      "cell_type": "code",
      "source": [
        "# Задание 1. Без регуляризации\n",
        "\n",
        "model = linear_model.LinearRegression()\n",
        "model.fit(X_train, y_train)\n",
        "print(f'MSE metrics train: {metrics.mean_squared_error(y_train, model.predict(X_train))}')\n",
        "print(f'MSE metrics test: {metrics.mean_squared_error(y_test, model.predict(X_test))}')"
      ],
      "metadata": {
        "colab": {
          "base_uri": "https://localhost:8080/"
        },
        "id": "r6zAHqQd9jdX",
        "outputId": "e586ad58-3111-4709-ca52-403b656656f1"
      },
      "execution_count": 72,
      "outputs": [
        {
          "output_type": "stream",
          "name": "stdout",
          "text": [
            "MSE metrics train: 0.5179331255246699\n",
            "MSE metrics test: 0.5558915986952442\n"
          ]
        }
      ]
    },
    {
      "cell_type": "code",
      "source": [
        "# Задание 1. Ridge\n",
        "\n",
        "# инициализируем переменную для отслеживания лучшего MSE\n",
        "# np.inf - константа библиотеки numpy для обозначения положительной бесконечности (числа, большего чем любое вычисляемое)\n",
        "# np.inf - используется как точка отсчета для поиска наименьшего в цикле\n",
        "best_mse_train = np.inf\n",
        "best_mse_test = np.inf\n",
        "best_alpha = None\n",
        "\n",
        "for i in alphas:\n",
        "  model = linear_model.Ridge(alpha=i)\n",
        "  model.fit(X_train, y_train)\n",
        "  train_mse = metrics.mean_squared_error(y_train, model.predict(X_train))\n",
        "  test_mse = metrics.mean_squared_error(y_test, model.predict(X_test))\n",
        "  if test_mse < best_mse_test:\n",
        "    best_mse_train = train_mse\n",
        "    best_mse_test = test_mse\n",
        "    best_alpha = i\n",
        "\n",
        "print(f'Best MSE metrics train (Ridge): {best_mse_train}')\n",
        "print(f'Best MSE metrics test (Ridge): {best_mse_test}')\n",
        "print(f'Best hiperparam (Ridge): {best_alpha}')"
      ],
      "metadata": {
        "colab": {
          "base_uri": "https://localhost:8080/"
        },
        "id": "p0Ppwc5aKiLh",
        "outputId": "55212fdb-4ba6-40c5-ad07-2dcb2a48e7d7"
      },
      "execution_count": 73,
      "outputs": [
        {
          "output_type": "stream",
          "name": "stdout",
          "text": [
            "Best MSE metrics train (Ridge): 0.5181476333801714\n",
            "Best MSE metrics test (Ridge): 0.5543310655086396\n",
            "Best hiperparam (Ridge): 50\n"
          ]
        }
      ]
    },
    {
      "cell_type": "code",
      "source": [
        "# Задание 1. Lasso\n",
        "\n",
        "best_mse_train = np.inf\n",
        "best_mse_test = np.inf\n",
        "best_alpha = None\n",
        "\n",
        "for i in alphas:\n",
        "  model = linear_model.Lasso(alpha=i)\n",
        "  model.fit(X_train, y_train)\n",
        "  train_mse = metrics.mean_squared_error(y_train, model.predict(X_train))\n",
        "  test_mse = metrics.mean_squared_error(y_test, model.predict(X_test))\n",
        "  if test_mse < best_mse_test:\n",
        "    best_mse_train = train_mse\n",
        "    best_mse_test = test_mse\n",
        "    best_alpha = i\n",
        "\n",
        "print(f'Best MSE metrics train (Ridge): {best_mse_train}')\n",
        "print(f'Best MSE metrics test (Ridge): {best_mse_test}')\n",
        "print(f'Best hiperparam (Ridge): {best_alpha}')"
      ],
      "metadata": {
        "colab": {
          "base_uri": "https://localhost:8080/"
        },
        "id": "Qx_T-rgARAD8",
        "outputId": "fbbf7c08-d2f9-421d-cbde-5752599f3378"
      },
      "execution_count": 74,
      "outputs": [
        {
          "output_type": "stream",
          "name": "stdout",
          "text": [
            "Best MSE metrics train (Ridge): 0.52338408362522\n",
            "Best MSE metrics test (Ridge): 0.5482548967938964\n",
            "Best hiperparam (Ridge): 0.01\n"
          ]
        }
      ]
    },
    {
      "cell_type": "code",
      "source": [
        "# Задание 1. ElasticNet\n",
        "\n",
        "best_mse_train = np.inf\n",
        "best_mse_test = np.inf\n",
        "best_alpha = None\n",
        "\n",
        "for i in alphas:\n",
        "  model = linear_model.ElasticNet(alpha=i)\n",
        "  model.fit(X_train, y_train)\n",
        "  train_mse = metrics.mean_squared_error(y_train, model.predict(X_train))\n",
        "  test_mse = metrics.mean_squared_error(y_test, model.predict(X_test))\n",
        "  if test_mse < best_mse_test:\n",
        "    best_mse_train = train_mse\n",
        "    best_mse_test = test_mse\n",
        "    best_alpha = i\n",
        "\n",
        "print(f'Best MSE metrics train (Ridge): {best_mse_train}')\n",
        "print(f'Best MSE metrics test (Ridge): {best_mse_test}')\n",
        "print(f'Best hiperparam (Ridge): {best_alpha}')"
      ],
      "metadata": {
        "colab": {
          "base_uri": "https://localhost:8080/"
        },
        "id": "UTAVvZvuRymD",
        "outputId": "adb38272-6795-4706-9d16-ba6282adc53f"
      },
      "execution_count": 75,
      "outputs": [
        {
          "output_type": "stream",
          "name": "stdout",
          "text": [
            "Best MSE metrics train (Ridge): 0.5211546671597785\n",
            "Best MSE metrics test (Ridge): 0.5499533403867808\n",
            "Best hiperparam (Ridge): 0.01\n"
          ]
        }
      ]
    },
    {
      "cell_type": "code",
      "source": [
        "model.coef_"
      ],
      "metadata": {
        "id": "Q8-2tvNBSCGq"
      },
      "execution_count": null,
      "outputs": []
    }
  ]
}