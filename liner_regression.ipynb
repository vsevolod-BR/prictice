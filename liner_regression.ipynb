{
  "nbformat": 4,
  "nbformat_minor": 0,
  "metadata": {
    "colab": {
      "provenance": [],
      "authorship_tag": "ABX9TyOycKeQ1xL2rq5XCJ54+K6u",
      "include_colab_link": true
    },
    "kernelspec": {
      "name": "python3",
      "display_name": "Python 3"
    },
    "language_info": {
      "name": "python"
    }
  },
  "cells": [
    {
      "cell_type": "markdown",
      "metadata": {
        "id": "view-in-github",
        "colab_type": "text"
      },
      "source": [
        "<a href=\"https://colab.research.google.com/github/vsevolod-BR/prictice/blob/main/liner_regression.ipynb\" target=\"_parent\"><img src=\"https://colab.research.google.com/assets/colab-badge.svg\" alt=\"Open In Colab\"/></a>"
      ]
    },
    {
      "cell_type": "code",
      "execution_count": 21,
      "metadata": {
        "id": "wetgAn6YvHaS"
      },
      "outputs": [],
      "source": [
        "import numpy as np\n",
        "import pandas as pd\n",
        "from sklearn import datasets\n",
        "from sklearn import linear_model\n",
        "from sklearn import metrics\n",
        "from sklearn.datasets import fetch_california_housing\n",
        "from sklearn.preprocessing import StandardScaler\n",
        "from sklearn.model_selection import train_test_split"
      ]
    },
    {
      "cell_type": "code",
      "source": [
        "# гиперпараметры\n",
        "alphas = [0.001, 0.005, 0.01, 0.05, 0.1, 0.5, 1, 5, 10, 50]\n",
        "\n",
        "# загрузка данных (способ, приведенный в задании)\n",
        "X, y = datasets.fetch_california_housing(as_frame=True, return_X_y=True)\n",
        "X_train, X_test, y_train, y_test = train_test_split(X, y, test_size=0.2, random_state=42)\n",
        "\n",
        "# обучение и преобразование обучающей выборки\n",
        "scaler = StandardScaler()\n",
        "X_train_scaled = scaler.fit_transform(X_train)\n",
        "\n",
        "# преобразование тестовой выборки\n",
        "X_scaled_test = scaler.transform(X_test)\n",
        "\n",
        "# проверка результата\n",
        "print(pd.DataFrame(X_train_scaled, columns = X.columns).head)"
      ],
      "metadata": {
        "id": "onffN9UM4tNg"
      },
      "execution_count": null,
      "outputs": []
    },
    {
      "cell_type": "code",
      "source": [
        "# Задание 1. Без регуляризации\n",
        "\n",
        "model = linear_model.LinearRegression()\n",
        "model.fit(X_train_scaled, y_train)\n",
        "print(f'MSE metrics train: {metrics.mean_squared_error(y_train, model.predict(X_train_scaled))}')\n",
        "print(f'MSE metrics test: {metrics.mean_squared_error(y_test, model.predict(X_scaled_test))}')"
      ],
      "metadata": {
        "colab": {
          "base_uri": "https://localhost:8080/"
        },
        "id": "r6zAHqQd9jdX",
        "outputId": "1375ca83-b4e4-4245-ae8d-d83c96a62907"
      },
      "execution_count": 27,
      "outputs": [
        {
          "output_type": "stream",
          "name": "stdout",
          "text": [
            "MSE metrics train: 0.5179331255246699\n",
            "MSE metrics test: 0.5558915986952442\n"
          ]
        }
      ]
    },
    {
      "cell_type": "code",
      "source": [
        "# Задание 1. Ridge\n",
        "\n",
        "# инициализируем переменную для отслеживания лучшего MSE\n",
        "# np.inf - константа библиотеки numpy для обозначения положительной бесконечности (числа, большего чем любое вычисляемое)\n",
        "# np.inf - используется как точка отсчета для поиска наименьшего в цикле\n",
        "best_mse_train = np.inf\n",
        "best_mse_test = np.inf\n",
        "best_alpha = None\n",
        "\n",
        "for i in alphas:\n",
        "  model = linear_model.Ridge(alpha=i)\n",
        "  model.fit(X_train_scaled, y_train)\n",
        "  train_mse = metrics.mean_squared_error(y_train, model.predict(X_train_scaled))\n",
        "  test_mse = metrics.mean_squared_error(y_test, model.predict(X_scaled_test))\n",
        "  if test_mse < best_mse_test:\n",
        "    best_mse_train = train_mse\n",
        "    best_mse_test = test_mse\n",
        "    best_alpha = i\n",
        "\n",
        "print(f'Best MSE metrics train (Ridge): {best_mse_train}')\n",
        "print(f'Best MSE metrics test (Ridge): {best_mse_test}')\n",
        "print(f'Best hiperparam (Ridge): {best_alpha}')"
      ],
      "metadata": {
        "colab": {
          "base_uri": "https://localhost:8080/"
        },
        "id": "p0Ppwc5aKiLh",
        "outputId": "4c0153e2-4c1b-4669-abf0-4f4d409b5c1b"
      },
      "execution_count": 31,
      "outputs": [
        {
          "output_type": "stream",
          "name": "stdout",
          "text": [
            "Best MSE metrics train (Ridge): 0.5181476333801714\n",
            "Best MSE metrics test (Ridge): 0.5543310655086396\n",
            "Best hiperpar. (Ridge): 50\n"
          ]
        }
      ]
    },
    {
      "cell_type": "code",
      "source": [
        "# Задание 1. Lasso\n",
        "\n",
        "best_mse_train = np.inf\n",
        "best_mse_test = np.inf\n",
        "best_alpha = None\n",
        "\n",
        "for i in alphas:\n",
        "  model = linear_model.Lasso(alpha=i)\n",
        "  model.fit(X_train_scaled, y_train)\n",
        "  train_mse = metrics.mean_squared_error(y_train, model.predict(X_train_scaled))\n",
        "  test_mse = metrics.mean_squared_error(y_test, model.predict(X_scaled_test))\n",
        "  if test_mse < best_mse_test:\n",
        "    best_mse_train = train_mse\n",
        "    best_mse_test = test_mse\n",
        "    best_alpha = i\n",
        "\n",
        "print(f'Best MSE metrics train (Ridge): {best_mse_train}')\n",
        "print(f'Best MSE metrics test (Ridge): {best_mse_test}')\n",
        "print(f'Best hiperparam (Ridge): {best_alpha}')"
      ],
      "metadata": {
        "colab": {
          "base_uri": "https://localhost:8080/"
        },
        "id": "Qx_T-rgARAD8",
        "outputId": "d59a3668-3d0f-4b12-a660-eb896897d4cb"
      },
      "execution_count": 32,
      "outputs": [
        {
          "output_type": "stream",
          "name": "stdout",
          "text": [
            "Best MSE metrics train (Ridge): 0.52338408362522\n",
            "Best MSE metrics test (Ridge): 0.5482548967938964\n",
            "Best hiperparam (Ridge): 0.01\n"
          ]
        }
      ]
    }
  ]
}