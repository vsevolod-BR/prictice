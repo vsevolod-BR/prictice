{
  "nbformat": 4,
  "nbformat_minor": 0,
  "metadata": {
    "colab": {
      "provenance": [],
      "authorship_tag": "ABX9TyN1CDrrMtIlHBhS3IG3HZ0F",
      "include_colab_link": true
    },
    "kernelspec": {
      "name": "python3",
      "display_name": "Python 3"
    },
    "language_info": {
      "name": "python"
    }
  },
  "cells": [
    {
      "cell_type": "markdown",
      "metadata": {
        "id": "view-in-github",
        "colab_type": "text"
      },
      "source": [
        "<a href=\"https://colab.research.google.com/github/vsevolod-BR/prictice/blob/main/liner_regression.ipynb\" target=\"_parent\"><img src=\"https://colab.research.google.com/assets/colab-badge.svg\" alt=\"Open In Colab\"/></a>"
      ]
    },
    {
      "cell_type": "code",
      "execution_count": 21,
      "metadata": {
        "id": "wetgAn6YvHaS"
      },
      "outputs": [],
      "source": [
        "import numpy as np\n",
        "import pandas as pd\n",
        "from sklearn import datasets\n",
        "from sklearn import linear_model\n",
        "from sklearn import metrics\n",
        "from sklearn.datasets import fetch_california_housing\n",
        "from sklearn.preprocessing import StandardScaler\n",
        "from sklearn.model_selection import train_test_split"
      ]
    },
    {
      "cell_type": "code",
      "source": [
        "# загрузка данных (способ, приведенный в задании)\n",
        "X, y = datasets.fetch_california_housing(as_frame=True, return_X_y=True)\n",
        "X_train, X_test, y_train, y_test = train_test_split(X, y, test_size=0.2, random_state=42)\n",
        "\n",
        "# обучение и преобразование обучающей выборки\n",
        "scaler = StandardScaler()\n",
        "X_train_scaled = scaler.fit_transform(X_train)\n",
        "\n",
        "# преобразование тестовой выборки\n",
        "X_scaled_test = scaler.transform(X_test)\n",
        "\n",
        "# проверка результата\n",
        "print(pd.DataFrame(X_train_scaled, columns = X.columns).head)"
      ],
      "metadata": {
        "id": "onffN9UM4tNg"
      },
      "execution_count": null,
      "outputs": []
    },
    {
      "cell_type": "code",
      "source": [
        "# Задание 1. Без регуляризации\n",
        "\n",
        "model = linear_model.LinearRegression()\n",
        "model.fit(X_train_scaled, y_train)\n",
        "print(f'MSE metrics train: {metrics.mean_squared_error(y_train, model.predict(X_train_scaled))}')\n",
        "print(f'MSE metrics test: {metrics.mean_squared_error(y_test, model.predict(X_scaled_test))}')"
      ],
      "metadata": {
        "colab": {
          "base_uri": "https://localhost:8080/"
        },
        "id": "r6zAHqQd9jdX",
        "outputId": "1375ca83-b4e4-4245-ae8d-d83c96a62907"
      },
      "execution_count": 27,
      "outputs": [
        {
          "output_type": "stream",
          "name": "stdout",
          "text": [
            "MSE metrics train: 0.5179331255246699\n",
            "MSE metrics test: 0.5558915986952442\n"
          ]
        }
      ]
    }
  ]
}