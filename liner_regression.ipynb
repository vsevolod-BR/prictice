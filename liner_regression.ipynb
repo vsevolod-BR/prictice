{
  "nbformat": 4,
  "nbformat_minor": 0,
  "metadata": {
    "colab": {
      "provenance": [],
      "authorship_tag": "ABX9TyOYi56JYo6s+nd8xvrD2Chm",
      "include_colab_link": true
    },
    "kernelspec": {
      "name": "python3",
      "display_name": "Python 3"
    },
    "language_info": {
      "name": "python"
    }
  },
  "cells": [
    {
      "cell_type": "markdown",
      "metadata": {
        "id": "view-in-github",
        "colab_type": "text"
      },
      "source": [
        "<a href=\"https://colab.research.google.com/github/vsevolod-BR/prictice/blob/main/liner_regression.ipynb\" target=\"_parent\"><img src=\"https://colab.research.google.com/assets/colab-badge.svg\" alt=\"Open In Colab\"/></a>"
      ]
    },
    {
      "cell_type": "code",
      "execution_count": 21,
      "metadata": {
        "id": "wetgAn6YvHaS"
      },
      "outputs": [],
      "source": [
        "import numpy as np\n",
        "import pandas as pd\n",
        "from sklearn import datasets\n",
        "from sklearn import linear_model\n",
        "from sklearn import metrics\n",
        "from sklearn.datasets import fetch_california_housing\n",
        "from sklearn.preprocessing import StandardScaler\n",
        "from sklearn.model_selection import train_test_split"
      ]
    },
    {
      "cell_type": "code",
      "source": [
        "#housing = fetch_california_housing()\n",
        "#df = pd.DataFrame(data=housing.data, columns=housing.feature_names)\n",
        "#df['MedHouseVel'] = housing.target\n",
        "#df.head()"
      ],
      "metadata": {
        "id": "rDr8k3dh0rFK"
      },
      "execution_count": null,
      "outputs": []
    },
    {
      "cell_type": "code",
      "source": [
        "# рекомендованный импорт (загрузка данных)\n",
        "X, y = datasets.fetch_california_housing(as_frame=True, return_X_y=True)\n",
        "X_train, X_test, y_train, y_test = train_test_split(X, y, test_size=0.2, random_state=42)\n",
        "\n",
        "# обучение и преобразование обучающей выборки\n",
        "scaler = StandardScaler()\n",
        "X_train_scaled = scaler.fit_transform(X_train)\n",
        "\n",
        "# преобразование тестовой выборки\n",
        "X_scaled_test = scaler.transform(X_test)\n",
        "\n",
        "# проверка результата\n",
        "print(pd.DataFrame(X_train_scaled, columns = X.columns).head)"
      ],
      "metadata": {
        "colab": {
          "base_uri": "https://localhost:8080/"
        },
        "id": "onffN9UM4tNg",
        "outputId": "1a8ba473-7543-4f83-8fd2-67ffa58b6a6f"
      },
      "execution_count": 24,
      "outputs": [
        {
          "output_type": "stream",
          "name": "stdout",
          "text": [
            "<bound method NDFrame.head of          MedInc  HouseAge  AveRooms  AveBedrms  Population  AveOccup  \\\n",
            "0     -0.326196  0.348490 -0.174916  -0.208365    0.768276  0.051376   \n",
            "1     -0.035843  1.618118 -0.402835  -0.128530   -0.098901 -0.117362   \n",
            "2      0.144701 -1.952710  0.088216  -0.257538   -0.449818 -0.032280   \n",
            "3     -1.017864  0.586545 -0.600015  -0.145156   -0.007434  0.077507   \n",
            "4     -0.171488  1.142008  0.349007   0.086624   -0.485877 -0.068832   \n",
            "...         ...       ...       ...        ...         ...       ...   \n",
            "16507  1.307215  0.507194  0.290620  -0.393391   -0.675847 -0.005588   \n",
            "16508 -0.436266  0.348490  0.600411   0.398898    0.287195  0.069722   \n",
            "16509 -0.496973  0.586545 -0.606759  -0.039216    0.289833  0.020306   \n",
            "16510  0.965450 -1.079841  0.402175  -0.066265    0.308303  0.007076   \n",
            "16511 -0.685448  1.856173 -0.851446  -0.087508    1.048834 -0.085354   \n",
            "\n",
            "       Latitude  Longitude  \n",
            "0     -1.372811   1.272587  \n",
            "1     -0.876696   0.709162  \n",
            "2     -0.460146  -0.447603  \n",
            "3     -1.382172   1.232698  \n",
            "4      0.532084  -0.108551  \n",
            "...         ...        ...  \n",
            "16507 -0.872016   0.808883  \n",
            "16508 -0.759688   1.073144  \n",
            "16509 -0.755007   0.599469  \n",
            "16510  0.906510  -1.185540  \n",
            "16511  0.995437  -1.414898  \n",
            "\n",
            "[16512 rows x 8 columns]>\n"
          ]
        }
      ]
    },
    {
      "cell_type": "code",
      "source": [
        "# Задание 1. Без регуляризации\n",
        "\n",
        "model = linear_model.LinearRegression()\n",
        "model.fit(X_train_scaled, y_train)"
      ],
      "metadata": {
        "id": "r6zAHqQd9jdX"
      },
      "execution_count": null,
      "outputs": []
    }
  ]
}