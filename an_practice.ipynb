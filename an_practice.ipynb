{
  "cells": [
    {
      "cell_type": "markdown",
      "metadata": {
        "id": "view-in-github",
        "colab_type": "text"
      },
      "source": [
        "<a href=\"https://colab.research.google.com/github/vsevolod-BR/prictice/blob/main/an_practice.ipynb\" target=\"_parent\"><img src=\"https://colab.research.google.com/assets/colab-badge.svg\" alt=\"Open In Colab\"/></a>"
      ]
    },
    {
      "cell_type": "code",
      "execution_count": null,
      "metadata": {
        "id": "zwFnJsE6vjf8"
      },
      "outputs": [],
      "source": [
        "import numpy as np\n",
        "import pandas as pd\n",
        "import matplotlib.pyplot as plt\n",
        "import matplotlib as mlt\n",
        "import seaborn as sns\n",
        "import matplotlib.colors\n",
        "import matplotlib.ticker as mtick\n",
        "\n",
        "from sklearn.feature_selection import SelectKBest, mutual_info_classif, f_regression, f_classif, chi2\n",
        "from sklearn.model_selection import train_test_split\n",
        "from sklearn.preprocessing import StandardScaler\n",
        "\n",
        "from sklearn.linear_model import LogisticRegression\n",
        "from sklearn.ensemble import RandomForestClassifier\n",
        "\n",
        "from sklearn.metrics import accuracy_score, roc_auc_score, mean_squared_error\n",
        "from sklearn.metrics import confusion_matrix, plot_roc_curve, classification_report\n",
        "\n",
        "from mlxtend.feature_selection import SequentialFeatureSelector\n",
        "from mlxtend.feature_selection import ExhaustiveFeatureSelector\n",
        "from sklearn.feature_selection import RFE"
      ]
    },
    {
      "cell_type": "code",
      "source": [
        "df = pd.read_csv('diabetes_binary...csv') #считываем данные из файла\n",
        "df.head() #просматриваем столбцы (признаки)"
      ],
      "metadata": {
        "id": "SLS6BeE8dmBJ"
      },
      "execution_count": null,
      "outputs": []
    },
    {
      "cell_type": "code",
      "source": [
        "#ФИЛЬТРАЦИЯ\n",
        "#ВИЗУАЛЬНАЯ ОЦЕНКА\n",
        "#Процент дублей\n",
        "(len(df) - len(df.drop_duplicates()))*100/len(df)\n",
        "#Удаление дубликатов\n",
        "df = df.drop_duplicates()\n",
        "#Просматриваем информацию о датасете\n",
        "df.info()\n",
        "# .Т - транспонирует матрицу (удобно для просмотра при большом числе столбцов)\n",
        "df.describe().T\n",
        "\n",
        "### Если стандартное отклонение одного признака равно нулю - в дроп его###"
      ],
      "metadata": {
        "id": "qFP1bAt3epeI"
      },
      "execution_count": null,
      "outputs": []
    },
    {
      "cell_type": "code",
      "source": [
        "#Удаляем столбез с отклонением равным 0\n",
        "df = df.drop('surprise', axls = 1)\n",
        "#Выделим типы предиктов и отделим таргет\n",
        "target = 'Diabetes_binary'\n",
        "bool_vars = (df.nunique()[df.nunique() == 2].index.drop(labels = target))\n",
        "num_vars = [var for var in df.columns if var not in bool_vars and var!=target]"
      ],
      "metadata": {
        "id": "IcgAqMI5hI7x"
      },
      "execution_count": null,
      "outputs": []
    },
    {
      "cell_type": "code",
      "source": [
        "#Проверим сбалансированность классов\n",
        "plt['Diabetes_binary'].value_counts(1).plot(kind = 'barh', figsize = (10, 2))\n",
        "..."
      ],
      "metadata": {
        "id": "Ryj5viwbtVCu"
      },
      "execution_count": null,
      "outputs": []
    }
  ],
  "metadata": {
    "colab": {
      "name": "Добро пожаловать в Colaboratory!",
      "toc_visible": true,
      "provenance": [],
      "include_colab_link": true
    },
    "kernelspec": {
      "display_name": "Python 3",
      "name": "python3"
    }
  },
  "nbformat": 4,
  "nbformat_minor": 0
}