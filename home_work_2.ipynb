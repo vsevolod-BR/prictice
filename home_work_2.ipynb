{
  "nbformat": 4,
  "nbformat_minor": 0,
  "metadata": {
    "colab": {
      "provenance": [],
      "toc_visible": true,
      "authorship_tag": "ABX9TyNP1kWBai/h39BHJx8K3AZV",
      "include_colab_link": true
    },
    "kernelspec": {
      "name": "python3",
      "display_name": "Python 3"
    },
    "language_info": {
      "name": "python"
    }
  },
  "cells": [
    {
      "cell_type": "markdown",
      "metadata": {
        "id": "view-in-github",
        "colab_type": "text"
      },
      "source": [
        "<a href=\"https://colab.research.google.com/github/vsevolod-BR/prictice/blob/main/home_work_2.ipynb\" target=\"_parent\"><img src=\"https://colab.research.google.com/assets/colab-badge.svg\" alt=\"Open In Colab\"/></a>"
      ]
    },
    {
      "cell_type": "code",
      "source": [
        "import pandas as pd\n",
        "import numpy as np\n",
        "import matplotlib.pyplot as plt\n",
        "import seaborn as sns\n",
        "from scipy.stats import shapiro\n",
        "\n",
        "data = pd.read_csv('data_test.csv')\n",
        "df = pd.DataFrame(data)\n",
        "\n",
        "unknown_variable = data.isnull().sum()\n",
        "print('Пустые значения:\\n', unknown_variable)\n",
        "\n",
        "statistic = data.describe()\n",
        "print(statistic)\n",
        "\n",
        "print(shapiro(data['variable']))\n",
        "\n",
        "plt.figure(figsize = (5, 5))\n",
        "sns.histplot(data['variable'])\n",
        "plt.title('Распределение')\n",
        "plt.xlabel('Частота')\n",
        "plt.ylabel('Значение')\n",
        "plt.show()\n",
        "\n",
        "sns.boxplot(y = 'variable', data = data)\n",
        "plt.show()\n",
        "df.head(n=10)"
      ],
      "metadata": {
        "id": "LxC7eNPFYXDI"
      },
      "execution_count": null,
      "outputs": []
    }
  ]
}