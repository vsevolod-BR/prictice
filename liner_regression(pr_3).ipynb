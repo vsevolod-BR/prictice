{
  "nbformat": 4,
  "nbformat_minor": 0,
  "metadata": {
    "colab": {
      "provenance": [],
      "authorship_tag": "ABX9TyNioUA0/+Q1uN9dhkooWUv4",
      "include_colab_link": true
    },
    "kernelspec": {
      "name": "python3",
      "display_name": "Python 3"
    },
    "language_info": {
      "name": "python"
    }
  },
  "cells": [
    {
      "cell_type": "markdown",
      "metadata": {
        "id": "view-in-github",
        "colab_type": "text"
      },
      "source": [
        "<a href=\"https://colab.research.google.com/github/vsevolod-BR/prictice/blob/main/liner_regression(pr_3).ipynb\" target=\"_parent\"><img src=\"https://colab.research.google.com/assets/colab-badge.svg\" alt=\"Open In Colab\"/></a>"
      ]
    },
    {
      "cell_type": "code",
      "execution_count": 4,
      "metadata": {
        "id": "wetgAn6YvHaS"
      },
      "outputs": [],
      "source": [
        "import numpy as np\n",
        "import pandas as pd\n",
        "from sklearn.datasets import fetch_california_housing\n",
        "from sklearn import datasets\n",
        "from sklearn import linear_model\n",
        "from sklearn import metrics\n",
        "from sklearn.model_selection import train_test_split\n",
        "from sklearn.preprocessing import StandardScaler"
      ]
    },
    {
      "cell_type": "code",
      "source": [
        "X, Y = datasets.fetch_california_housing(as_frame=True, return_X_y=True)\n",
        "X_train, X_test, Y_train, Y_test = train_test_split(X, Y, train_size=0.2, random_state=42)"
      ],
      "metadata": {
        "id": "RNY88Lo4Iwgk"
      },
      "execution_count": 7,
      "outputs": []
    },
    {
      "cell_type": "code",
      "source": [
        "X_scaler = StandardScaler()\n",
        "X_scaler.fit(X_train)\n",
        "# get_feature_names_out - метод, который позволяет вытянуть имена, переданные при обучении\n",
        "# transform - используется для применения обученного преобразования к новым данным\n",
        "X_train_scaled = pd.DataFrame(X_scaler.transform(X_train), columns=X_scaler.get_feature_names_out())\n",
        "X_test_scaled = pd.DataFrame(X_scaler.transform(X_test), columns=X_scaler.get_feature_names_out())"
      ],
      "metadata": {
        "id": "GQZNYbWoJeE6"
      },
      "execution_count": 16,
      "outputs": []
    },
    {
      "cell_type": "code",
      "source": [
        "alphas = [0.001, 0.005, 0.01, 0.05, 0.1, 0.5, 1, 5, 10, 50]"
      ],
      "metadata": {
        "id": "yz_kZUHgMzlN"
      },
      "execution_count": 21,
      "outputs": []
    },
    {
      "cell_type": "code",
      "source": [
        "model = linear_model.LinearRegression()\n",
        "model.fit(X_train_scaled, Y_train)\n",
        "print(f'MSE train:{metrics.mean_squared_error(Y_train, model.predict(X_train_scaled))}')\n",
        "print(f'MSE test:{metrics.mean_squared_error(Y_test, model.predict(X_test_scaled))}')"
      ],
      "metadata": {
        "colab": {
          "base_uri": "https://localhost:8080/"
        },
        "id": "53MiwWJhNJAD",
        "outputId": "7b19ec80-0760-4b56-f0c7-fc401d86dfde"
      },
      "execution_count": 19,
      "outputs": [
        {
          "output_type": "stream",
          "name": "stdout",
          "text": [
            "MSE train:0.547148403838709\n",
            "MSE test:0.5218435360402414\n"
          ]
        }
      ]
    },
    {
      "cell_type": "code",
      "source": [
        "best_train_mse = np.inf\n",
        "best_test_mse = np.inf\n",
        "best_alpha = None\n",
        "\n",
        "for alpha in alphas:\n",
        "  model = linear_model.Ridge(alpha=alpha)\n",
        "  model.fit(X_train_scaled, Y_train)\n",
        "  train_mse = metrics.mean_squared_error(Y_train, model.predict(X_train_scaled))\n",
        "  test_mse = metrics.mean_squared_error(Y_test, model.predict(X_test_scaled))\n",
        "  if best_test_mse > test_mse:\n",
        "    best_train_mse = train_mse\n",
        "    best_test_mse = test_mse\n",
        "    best_alpha = alpha\n",
        "print(f'Train MSE: {best_train_mse}, Test MSE: {best_test_mse}, Alpha = {best_alpha}')"
      ],
      "metadata": {
        "colab": {
          "base_uri": "https://localhost:8080/"
        },
        "id": "ca43Lx8cPxU7",
        "outputId": "9ca61a84-5e9f-4b4f-c928-bc3b3a239d01"
      },
      "execution_count": 26,
      "outputs": [
        {
          "output_type": "stream",
          "name": "stdout",
          "text": [
            "Train MSE: 0.5471500621410261, Test MSE: 0.5218380901770937, Alpha = 1\n"
          ]
        }
      ]
    },
    {
      "cell_type": "code",
      "source": [
        "best_train_mse = np.inf\n",
        "best_test_mse = np.inf\n",
        "best_alpha = None\n",
        "\n",
        "for alpha in alphas:\n",
        "  model = linear_model.Lasso(alpha=alpha)\n",
        "  model.fit(X_train_scaled, Y_train)\n",
        "  train_mse = metrics.mean_squared_error(Y_train, model.predict(X_train_scaled))\n",
        "  test_mse = metrics.mean_squared_error(Y_test, model.predict(X_test_scaled))\n",
        "  if best_test_mse > test_mse:\n",
        "    best_train_mse = train_mse\n",
        "    best_test_mse = test_mse\n",
        "    best_alpha = alpha\n",
        "print(f'Train MSE: {best_train_mse}, Test MSE: {best_test_mse}, Alpha = {best_alpha}')"
      ],
      "metadata": {
        "id": "xSidsWHqSjG8",
        "outputId": "afe8fd55-c9b2-4028-b923-4d66438a367b",
        "colab": {
          "base_uri": "https://localhost:8080/"
        }
      },
      "execution_count": 27,
      "outputs": [
        {
          "output_type": "stream",
          "name": "stdout",
          "text": [
            "Train MSE: 0.5472190922587039, Test MSE: 0.5218735345704069, Alpha = 0.001\n"
          ]
        }
      ]
    },
    {
      "cell_type": "code",
      "source": [
        "best_train_mse = np.inf\n",
        "best_test_mse = np.inf\n",
        "best_alpha = None\n",
        "\n",
        "for alpha in alphas:\n",
        "  model = linear_model.ElasticNet(alpha=alpha)\n",
        "  model.fit(X_train_scaled, Y_train)\n",
        "  train_mse = metrics.mean_squared_error(Y_train, model.predict(X_train_scaled))\n",
        "  test_mse = metrics.mean_squared_error(Y_test, model.predict(X_test_scaled))\n",
        "  if best_test_mse > test_mse:\n",
        "    best_train_mse = train_mse\n",
        "    best_test_mse = test_mse\n",
        "    best_alpha = alpha\n",
        "print(f'Train MSE: {best_train_mse}, Test MSE: {best_test_mse}, Alpha = {best_alpha}')"
      ],
      "metadata": {
        "id": "bY3_BVksSv3Y",
        "outputId": "e5cdb07f-e68f-4d0f-e356-cc2c183a9602",
        "colab": {
          "base_uri": "https://localhost:8080/"
        }
      },
      "execution_count": 28,
      "outputs": [
        {
          "output_type": "stream",
          "name": "stdout",
          "text": [
            "Train MSE: 0.547191522417984, Test MSE: 0.5218521475774447, Alpha = 0.001\n"
          ]
        }
      ]
    },
    {
      "cell_type": "code",
      "source": [
        "model.coef_\n",
        "ind = np.argpartition(np.abs(model.coef_), 2)[:2]\n",
        "print(X_train_scaled.columns[ind].tolist())"
      ],
      "metadata": {
        "id": "F1D2-AJqXHJp",
        "outputId": "319ac922-9314-4068-8ffa-a81ef364d571",
        "colab": {
          "base_uri": "https://localhost:8080/"
        }
      },
      "execution_count": 45,
      "outputs": [
        {
          "output_type": "stream",
          "name": "stdout",
          "text": [
            "['Population_squared', 'Population_X_Latitude']\n"
          ]
        }
      ]
    },
    {
      "cell_type": "code",
      "source": [
        "#num_feature = X.shape[1]\n",
        "#for i in range(num_feature):\n",
        "#  column = X.columns[i]\n",
        "#  X_train_scaled[f'{column}_squared'] = X_train_scaled[column] ** 2\n",
        "#  X_test_scaled[f'{column}_squared'] = X_test_scaled[column] ** 2\n",
        "#  for j in range(1+i, num_feature):\n",
        "#    other_column = X.columns[j]\n",
        "#    X_train_scaled[f'{column}_X_{other_column}'] = X_train_scaled[column] * X_train_scaled[other_column]\n",
        "#    X_test_scaled[f'{column}_X_{other_column}'] = X_test_scaled[column] * X_test_scaled[other_column]"
      ],
      "metadata": {
        "id": "h4gc1a-dS9yY"
      },
      "execution_count": 39,
      "outputs": []
    }
  ]
}