{
  "nbformat": 4,
  "nbformat_minor": 0,
  "metadata": {
    "colab": {
      "provenance": [],
      "authorship_tag": "ABX9TyOi9KNOjbXtZ7Ac9GGRyykg",
      "include_colab_link": true
    },
    "kernelspec": {
      "name": "python3",
      "display_name": "Python 3"
    },
    "language_info": {
      "name": "python"
    }
  },
  "cells": [
    {
      "cell_type": "markdown",
      "metadata": {
        "id": "view-in-github",
        "colab_type": "text"
      },
      "source": [
        "<a href=\"https://colab.research.google.com/github/vsevolod-BR/prictice/blob/main/abstact_practice_analisis.ipynb\" target=\"_parent\"><img src=\"https://colab.research.google.com/assets/colab-badge.svg\" alt=\"Open In Colab\"/></a>"
      ]
    },
    {
      "cell_type": "markdown",
      "source": [
        "Цели анализа данных:\n",
        "1) Что сильнее всего влияет на зарплатную вилку в Data Science?\n",
        "2) Как распределены позиции и грейды сотрудников в компаниях рахного размера?\n",
        "3) В компанию какого размера выгоднее устраиваться на уровне Middle и Senior?"
      ],
      "metadata": {
        "id": "h1gMddXcMudE"
      }
    },
    {
      "cell_type": "code",
      "source": [
        "import pandas as pd\n",
        "import seaborn as sns\n",
        "from scipy import stats\n",
        "from statsmodels.formula.api import ols # ANOVA model from formula\n",
        "from statsmodels.stats.anova import anova_lm # ANOVA table from ols model\n",
        "import statsmodels.api as sm # for qq plot\n",
        "from statsmodels.stats.multicomp import pairwise_tukeyhsd # tukey test\n",
        "from scipy.stats import pearsonr, spearmanr, kendalltau # correlation\n",
        "\n",
        "data = pd.read_csv('ds_salaries.csv', index_col = 0)\n",
        "data.head() # посмотреть данные\n",
        "data.info() # посмотреть типы данных (укажет различия только между числовыми и качественными)\n",
        "data.work_year.unique() # данные дискретные (данные за три года)\n",
        "data.experience_level.unique() # данные порядковые (jun, mid, sen)\n",
        "data.company_size.unique() # данные порядковые (L, S, M)\n",
        "data.job_title.unique() # данные категориальные (множество уникальных значений)"
      ],
      "metadata": {
        "id": "ffidAG3PNOo9"
      },
      "execution_count": null,
      "outputs": []
    },
    {
      "cell_type": "markdown",
      "source": [
        "Что оказывает наиболее сильное влияние на зарплатную  видку? (корелляционный анализ). Сперва, однако посмотрим на распределение зарплат, исключая выбросы для большей точности."
      ],
      "metadata": {
        "id": "l-2W3W2fRBxe"
      }
    },
    {
      "cell_type": "code",
      "source": [
        "sns.boxplot(data=data, x='salary_in_usd') # на графике наблюдаем выбросы (значения > 300 000)\n",
        "data = data[data.salary_in_usd < 300000] # удаляем выбросы"
      ],
      "metadata": {
        "id": "dkXo7iqaRJGM"
      },
      "execution_count": null,
      "outputs": []
    },
    {
      "cell_type": "code",
      "source": [
        "spearmanr(data.salary_in_usd, data.experience_level) # корелляция Спирмена (зависимость зарплатной вилки от опыта)"
      ],
      "metadata": {
        "id": "Qt8Dc-vbR779"
      },
      "execution_count": null,
      "outputs": []
    },
    {
      "cell_type": "code",
      "source": [
        "sns.histplot(data = data, x='salary_in_usd', hue = 'expirience_level') # гистограмма распределения зарплат (x) с разделением по уровню опыта (hue)"
      ],
      "metadata": {
        "id": "03azdWs1Sgwc"
      },
      "execution_count": null,
      "outputs": []
    },
    {
      "cell_type": "code",
      "source": [
        "spearmanr(data.salary_in_usd, data.company_size) # корреляция Спирмена (зависимость зарплатной вилки от размера компании)\n",
        "sns.histplot(data = data, x='salary_in_usd', hue = 'company_size') # гистограмма распределения зарплат (x) с разделением по размеру компании (hue)"
      ],
      "metadata": {
        "id": "FzdhDrY0TOyE"
      },
      "execution_count": null,
      "outputs": []
    }
  ]
}