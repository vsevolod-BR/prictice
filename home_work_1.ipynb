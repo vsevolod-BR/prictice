{
  "nbformat": 4,
  "nbformat_minor": 0,
  "metadata": {
    "colab": {
      "provenance": [],
      "authorship_tag": "ABX9TyMROdRSEGe674KuBxhjp4cW",
      "include_colab_link": true
    },
    "kernelspec": {
      "name": "python3",
      "display_name": "Python 3"
    },
    "language_info": {
      "name": "python"
    }
  },
  "cells": [
    {
      "cell_type": "markdown",
      "metadata": {
        "id": "view-in-github",
        "colab_type": "text"
      },
      "source": [
        "<a href=\"https://colab.research.google.com/github/vsevolod-BR/prictice/blob/main/home_work_1.ipynb\" target=\"_parent\"><img src=\"https://colab.research.google.com/assets/colab-badge.svg\" alt=\"Open In Colab\"/></a>"
      ]
    },
    {
      "cell_type": "code",
      "source": [
        "import pandas as pd\n",
        "import numpy as np\n",
        "import matplotlib.pyplot as plt\n",
        "\n",
        "data = pd.read_csv('data_value.csv')\n",
        "isnull_values = data.isnull().sum()\n",
        "\n",
        "print(\"Пустые значения : \\n\", isnull_values)\n",
        "\n",
        "statistics = data.describe()\n",
        "\n",
        "print(\"Характеристика: \\n\", statistics)\n",
        "\n",
        "plt.hist(data['Price'], bins=10, edgecolor='black')\n",
        "plt.xlabel('Продажи')\n",
        "plt.ylabel('Частота')\n",
        "plt.title('Распределение продаж')\n",
        "plt.show()"
      ],
      "metadata": {
        "id": "PIufVnVMpgv1"
      },
      "execution_count": null,
      "outputs": []
    },
    {
      "cell_type": "code",
      "source": [],
      "metadata": {
        "id": "eOrsDGPedfhz"
      },
      "execution_count": null,
      "outputs": []
    }
  ]
}